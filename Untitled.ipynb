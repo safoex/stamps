{
 "cells": [
  {
   "cell_type": "code",
   "execution_count": 1,
   "metadata": {},
   "outputs": [],
   "source": [
    "import gurobipy as grb\n",
    "import itertools\n",
    "import sys\n",
    "import copy\n",
    "import collections\n",
    "import functools"
   ]
  },
  {
   "cell_type": "code",
   "execution_count": 2,
   "metadata": {},
   "outputs": [],
   "source": [
    "def iterer(*args):\n",
    "    return itertools.product(*[x_ if isinstance(x_,collections.Iterable) else range(x_) for x_ in args])"
   ]
  },
  {
   "cell_type": "code",
   "execution_count": 3,
   "metadata": {},
   "outputs": [
    {
     "name": "stdout",
     "output_type": "stream",
     "text": [
      "[{205.0: 0, 210.0: 0}, 96, 19600.0]\n"
     ]
    }
   ],
   "source": [
    "params_file = \"params2.txt\"\n",
    "stamps = {}\n",
    "prices = {}\n",
    "total_price = 0\n",
    "total_orgs  = 1\n",
    "\n",
    "lines = []\n",
    "def import_params():\n",
    "    with open(params_file) as f:\n",
    "        global lines\n",
    "        lines = [ line for line in f ]\n",
    "    with open(\"log.txt\",\"w\") as L:\n",
    "        global total_price, total_orgs\n",
    "        print(str(int(lines[1])), file=L)\n",
    "        for l in lines[2:2+int(lines[1])]:\n",
    "            nominal, amount = list(map(float, l.split()))\n",
    "            stamps[nominal] = amount\n",
    "        l_n_prices = 3 + int(lines[1])\n",
    "        n_prices = lines[l_n_prices]\n",
    "        print(n_prices, file=L)\n",
    "        for p in list(map(float, lines[l_n_prices+1].split())):\n",
    "            prices[p] = 0\n",
    "        total_orgs = int(lines[l_n_prices+3])\n",
    "        total_price = float(lines[l_n_prices+5])\n",
    "        print([prices, total_orgs, total_price])\n",
    "\n",
    "import_params()"
   ]
  },
  {
   "cell_type": "code",
   "execution_count": 4,
   "metadata": {},
   "outputs": [],
   "source": [
    "class Solver:\n",
    "    # stamps - (1,N), prices - (1,N)\n",
    "    def __init__(self, N_orgs, stamps, prices, total_cost):\n",
    "        self.model = grb.Model(\"stamps\")\n",
    "        self.N_stamps = len(stamps)\n",
    "        self.N_orgs = N_orgs\n",
    "        self.N_prices = len(prices)\n",
    "        self.var_stamps = self.model.addVars(range(self.N_orgs), range(self.N_stamps), name='s', vtype=grb.GRB.INTEGER)\n",
    "        self.var_prices = self.model.addVars(range(self.N_orgs), range(self.N_prices), name='p', vtype=grb.GRB.INTEGER)\n",
    "        self.stamps_nominal = list(stamps.keys())\n",
    "        self.stamps_amount = list(stamps.values())\n",
    "        self.prices = prices\n",
    "        self.total_cost = total_cost\n",
    "        ### contraints ###\n",
    "        ### sum of stamps = price for org\n",
    "        def stamp_sum_org(o):\n",
    "            return grb.quicksum(self.var_stamps[o,s] * self.stamps_nominal[s] for s in range(self.N_stamps))\n",
    "        def price_sum_org(o):\n",
    "            return grb.quicksum(self.var_prices[o,p] * prices[p] for p in range(self.N_prices))\n",
    "        self.model.addConstrs(stamp_sum_org(o) == price_sum_org(o) for o in range(self.N_orgs))\n",
    "        ### at least one letter per org:\n",
    "        self.model.addConstrs((self.var_prices.sum(o, '*') >= 1 for o in range(self.N_orgs)))\n",
    "        ### sum of all stamps is equal to total stamps\n",
    "        self.model.addConstrs(self.var_stamps.sum('*', s) == self.stamps_amount[s] for s in range(self.N_stamps))\n",
    "        ### sum of all orgs = total_prices\n",
    "        #self.model.addConstr()\n",
    "        self.model.addConstrs(self.var_stamps[o,s] <= 20 for o,s in iterer(self.N_orgs, self.N_stamps))\n",
    "        self.model.addConstrs(self.var_stamps[o,s] >= 0 for o,s in iterer(self.N_orgs, self.N_stamps))\n",
    "        self.diff = (grb.quicksum(price_sum_org(o) for o in range(self.N_orgs)) -  total_cost)\n",
    "        self.model.addConstr(self.diff >= 0)\n",
    "        self.model.setObjective( self.diff , grb.GRB.MINIMIZE)\n",
    "        \n",
    "    def solve(self):\n",
    "        self.model.update()\n",
    "        self.model.optimize()\n",
    "        return s.var_stamps, s.var_prices\n",
    "    \n",
    "    def print_result(self,filename):\n",
    "        self.stamps = {}\n",
    "        self.res_prices = {}\n",
    "        self.stamps_groups = {}\n",
    "        for n in self.stamps_nominal:\n",
    "            self.stamps_groups[n] = {}\n",
    "        \n",
    "        for o,s in iterer(self.N_orgs, self.N_stamps):\n",
    "            if self.var_stamps[o,s].X > 0:\n",
    "                if not o in self.stamps:\n",
    "                    self.stamps[o] = {}\n",
    "                a = self.var_stamps[o,s].X\n",
    "                n = self.stamps_nominal[s]\n",
    "                if not a in self.stamps_groups[n]:\n",
    "                    self.stamps_groups[n][a] = 0\n",
    "                self.stamps_groups[n][a] += 1\n",
    "                self.stamps[o][n] = a\n",
    "                    \n",
    "        for o in range(self.N_orgs):\n",
    "            self.res_prices[o] = 0\n",
    "        for o, p in iterer(self.N_orgs, self.N_prices):\n",
    "            self.res_prices[o] += self.var_prices[o,p].X * self.prices[p]\n",
    "        with open(filename, \"w\") as F:\n",
    "            print(\"TOTAL MONEY %d\"%(self.diff.getValue() + self.total_cost), file=F)\n",
    "            print(\"TOTAL STAMPS %d\"%(self.var_stamps.sum('*','*').getValue()), file=F)\n",
    "            for o in range(self.N_orgs):\n",
    "                print(o+1, file=F)\n",
    "                print(self.res_prices[o], file=F)\n",
    "                for s in self.stamps_nominal:\n",
    "                    if s in self.stamps[o] and self.stamps[o][s] > 0:\n",
    "                        print(u\"%d p. by %.2f rub.\"%(self.stamps[o][s],s), file=F)\n",
    "                print(\"\\n\", file=F)\n",
    "            for n in self.stamps_nominal:\n",
    "                for g in self.stamps_groups[n]:\n",
    "                    total_num = g*self.stamps_groups[n][g]\n",
    "                    print(\"%dx%.2f=%.2f\"%(total_num, n, total_num*n),file=F)\n",
    "            print(\"\\n\", file=F)\n",
    "            for n in self.stamps_nominal:\n",
    "                for g in self.stamps_groups[n]:\n",
    "                    total_num = g*self.stamps_groups[n][g]\n",
    "                    print(\"%dx%d=%d p. by %.2f rub.\"%(self.stamps_groups[n][g], g, total_num, n),file=F)\n",
    "            "
   ]
  },
  {
   "cell_type": "code",
   "execution_count": 5,
   "metadata": {},
   "outputs": [],
   "source": [
    "s = Solver(total_orgs,stamps,list(prices.keys()),total_price);"
   ]
  },
  {
   "cell_type": "code",
   "execution_count": 6,
   "metadata": {},
   "outputs": [
    {
     "name": "stdout",
     "output_type": "stream",
     "text": [
      "Optimize a model with 1930 rows, 1056 columns and 4032 nonzeros\n",
      "Variable types: 0 continuous, 1056 integer (0 binary)\n",
      "Coefficient statistics:\n",
      "  Matrix range     [1e+00, 2e+02]\n",
      "  Objective range  [2e+02, 2e+02]\n",
      "  Bounds range     [0e+00, 0e+00]\n",
      "  RHS range        [1e+00, 2e+04]\n",
      "Presolve removed 1728 rows and 0 columns\n",
      "Presolve time: 0.00s\n",
      "Presolved: 202 rows, 1056 columns, 2304 nonzeros\n",
      "Variable types: 0 continuous, 1056 integer (0 binary)\n",
      "\n",
      "Root relaxation: objective 4.000000e+02, 323 iterations, 0.01 seconds\n",
      "\n",
      "    Nodes    |    Current Node    |     Objective Bounds      |     Work\n",
      " Expl Unexpl |  Obj  Depth IntInf | Incumbent    BestBd   Gap | It/Node Time\n",
      "\n",
      "     0     0  400.00000    0   79          -  400.00000      -     -    0s\n",
      "     0     0  400.00000    0   72          -  400.00000      -     -    0s\n",
      "     0     0  400.00000    0   70          -  400.00000      -     -    0s\n",
      "     0     2  400.00000    0   70          -  400.00000      -     -    0s\n",
      "H 1261   626                     400.0000000  400.00000  0.00%  14.1    1s\n",
      "\n",
      "Cutting planes:\n",
      "  Gomory: 79\n",
      "  MIR: 53\n",
      "  StrongCG: 35\n",
      "\n",
      "Explored 1379 nodes (24989 simplex iterations) in 1.78 seconds\n",
      "Thread count was 4 (of 4 available processors)\n",
      "\n",
      "Solution count 1: 400 \n",
      "\n",
      "Optimal solution found (tolerance 1.00e-04)\n",
      "Best objective 4.000000000000e+02, best bound 4.000000000000e+02, gap 0.0000%\n"
     ]
    }
   ],
   "source": [
    "s.solve();"
   ]
  },
  {
   "cell_type": "code",
   "execution_count": 7,
   "metadata": {},
   "outputs": [],
   "source": [
    "s.print_result(\"results_test.txt\")"
   ]
  }
 ],
 "metadata": {
  "kernelspec": {
   "display_name": "Python 3",
   "language": "python",
   "name": "python3"
  },
  "language_info": {
   "codemirror_mode": {
    "name": "ipython",
    "version": 3
   },
   "file_extension": ".py",
   "mimetype": "text/x-python",
   "name": "python",
   "nbconvert_exporter": "python",
   "pygments_lexer": "ipython3",
   "version": "3.6.3"
  }
 },
 "nbformat": 4,
 "nbformat_minor": 2
}
